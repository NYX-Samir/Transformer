{
 "cells": [
  {
   "cell_type": "markdown",
   "id": "2b977666",
   "metadata": {},
   "source": [
    "# Work FLow\n",
    "    1.import Libraries\n",
    "    2.input embedding\n",
    "    3.Positional Encoding\n",
    "    4.Multi Head Attention(Self Attention)\n",
    "    5.Add & Normalized\n",
    "    6.Feed Forward\n",
    "    7.Residual Connection\n",
    "    8.Encoder\n",
    "    9.Decoder\n",
    "    10.Build a Transformer\n",
    "    11.Testing Transformer\n",
    "    12.Tokenizer\n",
    "    13.Loading Dataset\n",
    "    14.Valid Loop\n",
    "    15.Traning Loop\n",
    "    16.Conclusion"
   ]
  },
  {
   "cell_type": "markdown",
   "id": "e6d62785",
   "metadata": {},
   "source": [
    "## 1.import Libraries"
   ]
  },
  {
   "cell_type": "code",
   "execution_count": 8,
   "id": "5bc6ccdf",
   "metadata": {},
   "outputs": [],
   "source": [
    "import torch \n",
    "import torch.nn as nn\n",
    "from torch.utils.data import DataLoader,Dataset,random_split\n",
    "from torch.utils.tensorboard import SummaryWriter\n",
    "\n",
    "import math\n",
    "\n",
    "from datasets import load_dataset\n",
    "from tokenizers import Tokenizer\n",
    "from tokenizers.models import WordLevel\n",
    "from tokenizers.trainers import WordLevelTrainer\n",
    "from tokenizers.pre_tokenizers import Whitespace\n",
    "\n",
    "from pathlib import Path\n",
    "\n",
    "from typing import Any\n",
    "\n",
    "from tqdm import tqdm"
   ]
  },
  {
   "cell_type": "markdown",
   "id": "9961469d",
   "metadata": {},
   "source": [
    "# Input Embedding"
   ]
  },
  {
   "cell_type": "code",
   "execution_count": 9,
   "id": "c5580009",
   "metadata": {},
   "outputs": [],
   "source": [
    "class InputEmbedding(nn.Module):\n",
    "    def __init__(self,d_model:int,vocab_size:int):\n",
    "        super().__init__()\n",
    "        self.d_model=d_model\n",
    "        self.vocab_size = vocab_size\n",
    "        self.embedding=nn.Embedding(vocab_size,d_model)\n",
    "        \n",
    "    def forward(self,x):\n",
    "        return self.embedding(x)*math.sqrt(self.d_model)"
   ]
  },
  {
   "cell_type": "markdown",
   "id": "8e9527e3",
   "metadata": {},
   "source": [
    "# Position Encoding "
   ]
  },
  {
   "cell_type": "code",
   "execution_count": 11,
   "id": "e00aa1a6",
   "metadata": {},
   "outputs": [],
   "source": [
    "class PositionEncoding(nn.Module): \n",
    "    def __init__(self,d_model:int,seq_len:int,dropout:float):\n",
    "        super().__init__()\n",
    "        self.d_model=d_model\n",
    "        self.seq_len=seq_len\n",
    "        self.dropout=nn.Dropout(dropout)\n",
    "        \n",
    "        pe=torch.zero(seq_len,d_model)\n",
    "        positon =torch.arange(0,seq_len,dtype=float).unsqueeze(1)# shape (seq_len,1)\n",
    "        div_term=torch.exp(torch.arange(0,d_model,2).float() * (-math.log(10000.0)/d_model))\n",
    "        pe[:,0::2]=torch.sin(positon*div_term)\n",
    "        pe[:,1::2]=torch.cos(positon*div_term)\n",
    "        pe=pe.unsqueeze(0)\n",
    "        self.register_buffer(\"pe\",pe)\n",
    "        \n",
    "    def forward(self,x):\n",
    "        x=x+(self.pe[:,:x.shape[1],:]).requires_grad_(False)\n",
    "        return self.dropout(x)"
   ]
  },
  {
   "cell_type": "code",
   "execution_count": null,
   "id": "01504380",
   "metadata": {},
   "outputs": [],
   "source": []
  }
 ],
 "metadata": {
  "kernelspec": {
   "display_name": "Python 3",
   "language": "python",
   "name": "python3"
  },
  "language_info": {
   "codemirror_mode": {
    "name": "ipython",
    "version": 3
   },
   "file_extension": ".py",
   "mimetype": "text/x-python",
   "name": "python",
   "nbconvert_exporter": "python",
   "pygments_lexer": "ipython3",
   "version": "3.11.9"
  }
 },
 "nbformat": 4,
 "nbformat_minor": 5
}
