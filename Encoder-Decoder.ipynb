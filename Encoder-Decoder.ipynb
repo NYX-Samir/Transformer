{
 "cells": [
  {
   "cell_type": "markdown",
   "id": "2b977666",
   "metadata": {},
   "source": [
    "# Work FLow\n",
    "    1.import Libraries\n",
    "    2.input embedding\n",
    "    3.Positional Encoding\n",
    "    4.Multi Head Attention(Self Attention)\n",
    "    5.Add & Normalized\n",
    "    6.Feed Forward\n",
    "    7.Residual Connection\n",
    "    8.Encoder\n",
    "    9.Decoder\n",
    "    10.Build a Transformer\n",
    "    11.Testing Transformer\n",
    "    12.Tokenizer\n",
    "    13.Loading Dataset\n",
    "    14.Valid Loop\n",
    "    15.Traning Loop\n",
    "    16.Conclusion"
   ]
  },
  {
   "cell_type": "markdown",
   "id": "e6d62785",
   "metadata": {},
   "source": [
    "## 1.import Libraries"
   ]
  },
  {
   "cell_type": "code",
   "execution_count": 10,
   "id": "5bc6ccdf",
   "metadata": {},
   "outputs": [],
   "source": [
    "import torch \n",
    "import torch.nn as nn\n",
    "from torch.utils.data import DataLoader,Dataset,random_split\n",
    "from torch.utils.tensorboard import SummaryWriter\n",
    "\n",
    "import math\n",
    "\n",
    "from datasets import load_dataset\n",
    "from tokenizers import Tokenizer\n",
    "from tokenizers.models import WordLevel\n",
    "from tokenizers.trainers import WordLevelTrainer\n",
    "from tokenizers.pre_tokenizers import Whitespace\n",
    "\n",
    "from pathlib import Path\n",
    "\n",
    "from typing import Any\n",
    "\n",
    "from tqdm import tqdm"
   ]
  },
  {
   "cell_type": "markdown",
   "id": "9961469d",
   "metadata": {},
   "source": [
    "# 2.Input Embedding"
   ]
  },
  {
   "cell_type": "code",
   "execution_count": 11,
   "id": "c5580009",
   "metadata": {},
   "outputs": [],
   "source": [
    "class InputEmbedding(nn.Module):\n",
    "    def __init__(self,d_model:int,vocab_size:int):\n",
    "        super().__init__()\n",
    "        self.d_model=d_model\n",
    "        self.vocab_size = vocab_size\n",
    "        self.embedding=nn.Embedding(vocab_size,d_model)\n",
    "        \n",
    "    def forward(self,x):\n",
    "        return self.embedding(x)*math.sqrt(self.d_model)"
   ]
  },
  {
   "cell_type": "markdown",
   "id": "8e9527e3",
   "metadata": {},
   "source": [
    "# 3.Position Encoding "
   ]
  },
  {
   "cell_type": "code",
   "execution_count": 14,
   "id": "e00aa1a6",
   "metadata": {},
   "outputs": [],
   "source": [
    "class PositionEncoding(nn.Module): \n",
    "    def __init__(self, d_model: int, seq_len: int, dropout: float):\n",
    "        super().__init__()\n",
    "        self.d_model = d_model\n",
    "        self.seq_len = seq_len\n",
    "        self.dropout = nn.Dropout(dropout)\n",
    "        \n",
    "        pe = torch.zeros(seq_len, d_model)\n",
    "        position = torch.arange(0, seq_len, dtype=torch.float).unsqueeze(1)  # (seq_len, 1)\n",
    "        div_term = torch.exp(torch.arange(0, d_model, 2).float() * (-math.log(10000.0) / d_model))\n",
    "        \n",
    "        pe[:, 0::2] = torch.sin(position * div_term)\n",
    "        pe[:, 1::2] = torch.cos(position * div_term)\n",
    "        pe = pe.unsqueeze(0)  # (1, seq_len, d_model)\n",
    "        \n",
    "        self.register_buffer(\"pe\", pe)\n",
    "        \n",
    "    def forward(self, x):\n",
    "        x = x + self.pe[:, :x.size(1), :]\n",
    "        return self.dropout(x)"
   ]
  },
  {
   "cell_type": "markdown",
   "id": "b33cb4bf",
   "metadata": {},
   "source": [
    "## 4.Multi-Head Attention"
   ]
  },
  {
   "cell_type": "code",
   "execution_count": 15,
   "id": "01504380",
   "metadata": {},
   "outputs": [],
   "source": [
    "class MultiHeadAttention(nn.Module):\n",
    "    def __init__(self,d_model:int,h:int,dropout:float):\n",
    "        super().__init__()\n",
    "        self.d_model=d_model\n",
    "        self.h=h\n",
    "        \n",
    "        assert d_model%h==0,\"d_model is not divisible by h\"\n",
    "        \n",
    "        self.d_k=d_model//h\n",
    "        \n",
    "        self.w_q=nn.Linear(d_model,d_model)\n",
    "        self.w_k=nn.Linear(d_model,d_model)\n",
    "        self.w_v=nn.Linear(d_model,d_model)\n",
    "        self.w_o=nn.Linear(d_model,d_model)\n",
    "        \n",
    "        self.dropout=nn.Dropout(dropout)\n",
    "        \n",
    "    @staticmethod\n",
    "    def attention(query,key,value,mask,dropout:nn.Dropout):\n",
    "        d_k=query.shape[-1]\n",
    "        attention_scores=(query @ key.transpose(-2,-1))/math.sqrt(d_k)\n",
    "        \n",
    "        if mask is not None:\n",
    "            attention_scores.masked_fill(mask==0,-1e9)\n",
    "        attention_scores=attention_scores.softmax(dim=-1)\n",
    "        \n",
    "        if dropout is not None:\n",
    "            attention_scores=dropout(attention_scores)\n",
    "            \n",
    "        return (attention_scores@value),attention_scores\n",
    "            \n",
    "    def forward(self,q,k,v,mask):\n",
    "        query=self.w_q(q)\n",
    "        key=self.w_k(k)\n",
    "        value=self.w_v(v)\n",
    "        \n",
    "        query=query.view(query.shape[0],query.shape[1],self.h,self.d_k).transpose(1,2)\n",
    "        key=key.view(key.shape[0],key.shape[1],self.h,self.d_k).transpose(1,2)\n",
    "        value=value.view(value.shape[0],value.shape[1],self.h,self.d_k).transpose(1,2)\n",
    "        \n",
    "        x,self.attention_scores=MultiHeadAttention.attention(query,key,value,mask,self.dropout)\n",
    "        \n",
    "        x=x.transpose(1,2).contiguous().view(x.shape[0],-1,self.h*self.d_k)\n",
    "        \n",
    "        return self.w_o(x)"
   ]
  },
  {
   "cell_type": "code",
   "execution_count": null,
   "id": "519285bc",
   "metadata": {},
   "outputs": [],
   "source": []
  }
 ],
 "metadata": {
  "kernelspec": {
   "display_name": "Python 3",
   "language": "python",
   "name": "python3"
  },
  "language_info": {
   "codemirror_mode": {
    "name": "ipython",
    "version": 3
   },
   "file_extension": ".py",
   "mimetype": "text/x-python",
   "name": "python",
   "nbconvert_exporter": "python",
   "pygments_lexer": "ipython3",
   "version": "3.11.9"
  }
 },
 "nbformat": 4,
 "nbformat_minor": 5
}
